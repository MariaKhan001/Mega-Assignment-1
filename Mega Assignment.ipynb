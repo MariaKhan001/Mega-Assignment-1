{
 "cells": [
  {
   "cell_type": "markdown",
   "metadata": {},
   "source": []
  },
  {
   "cell_type": "code",
   "execution_count": null,
   "metadata": {},
   "outputs": [],
   "source": [
    "\n"
   ]
  },
  {
   "cell_type": "markdown",
   "metadata": {},
   "source": [
    "# Question# 9"
   ]
  },
  {
   "cell_type": "code",
   "execution_count": 7,
   "metadata": {},
   "outputs": [
    {
     "data": {
      "text/plain": [
       "{'name': 'maria', 'age': 25, 'class': 'piaic'}"
      ]
     },
     "execution_count": 7,
     "metadata": {},
     "output_type": "execute_result"
    }
   ],
   "source": [
    "student = {'name':'maria', 'age':25, 'class':'piaic'}\n",
    "student"
   ]
  },
  {
   "cell_type": "code",
   "execution_count": 11,
   "metadata": {},
   "outputs": [
    {
     "data": {
      "text/plain": [
       "{'name': 'maria', 'age': 25, 'class': 'piaic'}"
      ]
     },
     "execution_count": 11,
     "metadata": {},
     "output_type": "execute_result"
    }
   ],
   "source": [
    "student"
   ]
  },
  {
   "cell_type": "code",
   "execution_count": 13,
   "metadata": {},
   "outputs": [
    {
     "data": {
      "text/plain": [
       "'maria'"
      ]
     },
     "execution_count": 13,
     "metadata": {},
     "output_type": "execute_result"
    }
   ],
   "source": [
    "student['name']"
   ]
  },
  {
   "cell_type": "code",
   "execution_count": 14,
   "metadata": {},
   "outputs": [
    {
     "data": {
      "text/plain": [
       "25"
      ]
     },
     "execution_count": 14,
     "metadata": {},
     "output_type": "execute_result"
    }
   ],
   "source": [
    "student['age']"
   ]
  },
  {
   "cell_type": "code",
   "execution_count": 16,
   "metadata": {},
   "outputs": [
    {
     "data": {
      "text/plain": [
       "3"
      ]
     },
     "execution_count": 16,
     "metadata": {},
     "output_type": "execute_result"
    }
   ],
   "source": [
    "len( student)"
   ]
  },
  {
   "cell_type": "markdown",
   "metadata": {},
   "source": [
    "# Question # 10"
   ]
  },
  {
   "cell_type": "code",
   "execution_count": null,
   "metadata": {},
   "outputs": [],
   "source": []
  },
  {
   "cell_type": "markdown",
   "metadata": {},
   "source": [
    "# Question # 11"
   ]
  },
  {
   "cell_type": "code",
   "execution_count": 9,
   "metadata": {},
   "outputs": [],
   "source": [
    "#      -8     -7     -6     -5     -4     -3     -2     -1\n",
    "X = [\"Feb\",\" Apr\", \"Mar\", \"May\", \"Jun\", \"Jul\", \"Aug\", \"Jan\"]\n",
    "#      0      1     2       3      4      5      6      7\n"
   ]
  },
  {
   "cell_type": "code",
   "execution_count": 10,
   "metadata": {},
   "outputs": [
    {
     "name": "stdout",
     "output_type": "stream",
     "text": [
      "['Feb', ' Apr', 'Mar']\n",
      "['Mar', 'May', 'Jun', 'Jul', 'Aug', 'Jan']\n",
      "['Jun', 'Jul', 'Aug', 'Jan']\n",
      "[' Apr', 'May', 'Jul']\n",
      "[]\n",
      "[' Apr', 'Mar', 'May', 'Jun', 'Jul', 'Aug']\n",
      "['Jan', 'Jul', 'May', ' Apr']\n",
      "['Feb', ' Apr', 'Mar', 'May']\n"
     ]
    }
   ],
   "source": [
    "print(X[0:3])\n",
    "print(X[2:8])\n",
    "print(X[4:9])\n",
    "print(X[1:7:2])\n",
    "print(X[-1:-7])\n",
    "print(X[-7:7])\n",
    "print(X[-1:-8:-2])\n",
    "print(X[:4])"
   ]
  },
  {
   "cell_type": "code",
   "execution_count": 11,
   "metadata": {},
   "outputs": [
    {
     "data": {
      "text/plain": [
       "['Feb', ' Apr', 'Mar', 'May', 'Jun', 'Jul', 'Aug', 'Jan']"
      ]
     },
     "execution_count": 11,
     "metadata": {},
     "output_type": "execute_result"
    }
   ],
   "source": [
    "X"
   ]
  },
  {
   "cell_type": "code",
   "execution_count": 12,
   "metadata": {},
   "outputs": [
    {
     "data": {
      "text/plain": [
       "[]"
      ]
     },
     "execution_count": 12,
     "metadata": {},
     "output_type": "execute_result"
    }
   ],
   "source": [
    "X[-1:-7]"
   ]
  },
  {
   "cell_type": "code",
   "execution_count": 15,
   "metadata": {},
   "outputs": [
    {
     "data": {
      "text/plain": [
       "['Jan', 'Jul', 'May', ' Apr']"
      ]
     },
     "execution_count": 15,
     "metadata": {},
     "output_type": "execute_result"
    }
   ],
   "source": [
    "X[-1:-8:-2]"
   ]
  },
  {
   "cell_type": "code",
   "execution_count": 23,
   "metadata": {},
   "outputs": [
    {
     "data": {
      "text/plain": [
       "['Jan', 'Aug', 'Jul', 'Jun', 'May', 'Mar']"
      ]
     },
     "execution_count": 23,
     "metadata": {},
     "output_type": "execute_result"
    }
   ],
   "source": [
    "X = [\"Feb\",\" Apr\", \"Mar\", \"May\", \"Jun\", \"Jul\", \"Aug\", \"Jan\"]\n",
    "X[-1:-7:-1]"
   ]
  },
  {
   "cell_type": "markdown",
   "metadata": {},
   "source": [
    "# Question # 12"
   ]
  },
  {
   "cell_type": "code",
   "execution_count": 16,
   "metadata": {},
   "outputs": [
    {
     "name": "stdout",
     "output_type": "stream",
     "text": [
      "[2, 8, 4, 5]\n"
     ]
    }
   ],
   "source": [
    "X = [ 9,2,8,4,5]\n",
    "X.remove(9)\n",
    "print(X)\n",
    "#Output: [2,8,4,5]"
   ]
  },
  {
   "cell_type": "markdown",
   "metadata": {},
   "source": [
    "# Question# 13"
   ]
  },
  {
   "cell_type": "code",
   "execution_count": 18,
   "metadata": {},
   "outputs": [
    {
     "name": "stdout",
     "output_type": "stream",
     "text": [
      "hello! hello! hello! \n"
     ]
    }
   ],
   "source": [
    "p = 3\n",
    "q = 'hello! '\n",
    "print( q*p)\n",
    " # hello! hello! hello!"
   ]
  },
  {
   "cell_type": "markdown",
   "metadata": {},
   "source": [
    "# Question# 14"
   ]
  },
  {
   "cell_type": "code",
   "execution_count": 19,
   "metadata": {},
   "outputs": [
    {
     "name": "stdout",
     "output_type": "stream",
     "text": [
      "THIS IS A RANDOM SENTENCE\n"
     ]
    }
   ],
   "source": [
    "y = \"this is a random sentence\"\n",
    "print (y.upper())\n",
    "#Output: THIS IS A RANDOM SENTENCE\n"
   ]
  },
  {
   "cell_type": "markdown",
   "metadata": {},
   "source": [
    "# Question# 15"
   ]
  },
  {
   "cell_type": "code",
   "execution_count": 27,
   "metadata": {},
   "outputs": [
    {
     "name": "stdout",
     "output_type": "stream",
     "text": [
      "<class 'bool'>\n",
      "<class 'str'>\n",
      "<class 'int'>\n",
      "<class 'float'>\n"
     ]
    }
   ],
   "source": [
    "p = True\n",
    "q = 'True'\n",
    "r = 2\n",
    "s = 2.0\n",
    "print(type(p))\n",
    "print(type(q))\n",
    "print(type(r))\n",
    "print(type(s))"
   ]
  },
  {
   "cell_type": "markdown",
   "metadata": {},
   "source": [
    "# Question # 16"
   ]
  },
  {
   "cell_type": "code",
   "execution_count": null,
   "metadata": {},
   "outputs": [],
   "source": []
  },
  {
   "cell_type": "markdown",
   "metadata": {},
   "source": [
    "# Question# 17 "
   ]
  },
  {
   "cell_type": "code",
   "execution_count": null,
   "metadata": {},
   "outputs": [],
   "source": [
    "Which command invokes method X() of the object p?\n",
    "1) X(p)\n",
    "2) p$x()\n",
    "3) X().p\n",
    "4) p.x()\n",
    "\n",
    "# Option \"1\" is correct"
   ]
  },
  {
   "cell_type": "markdown",
   "metadata": {},
   "source": [
    "# Question# 18"
   ]
  },
  {
   "cell_type": "code",
   "execution_count": 21,
   "metadata": {},
   "outputs": [
    {
     "name": "stdout",
     "output_type": "stream",
     "text": [
      "0\n",
      "2.0\n",
      "2\n",
      "2\n"
     ]
    }
   ],
   "source": [
    "X=4 \n",
    "Y= 2\n",
    "print(X % Y)\n",
    "print(X / Y)\n",
    "print(X // Y)\n",
    "print(Y % X)"
   ]
  },
  {
   "cell_type": "markdown",
   "metadata": {},
   "source": [
    "# Question # 19"
   ]
  },
  {
   "cell_type": "code",
   "execution_count": 22,
   "metadata": {},
   "outputs": [
    {
     "ename": "SyntaxError",
     "evalue": "invalid syntax (<ipython-input-22-591acad1d821>, line 2)",
     "output_type": "error",
     "traceback": [
      "\u001b[1;36m  File \u001b[1;32m\"<ipython-input-22-591acad1d821>\"\u001b[1;36m, line \u001b[1;32m2\u001b[0m\n\u001b[1;33m    j = [5, 9, 0]]\u001b[0m\n\u001b[1;37m    ^\u001b[0m\n\u001b[1;31mSyntaxError\u001b[0m\u001b[1;31m:\u001b[0m invalid syntax\n"
     ]
    }
   ],
   "source": [
    "x = [[4, 1, 1]\n",
    "j = [5, 9, 0]]\n",
    "for i in __?__:\n",
    " for j in __?__:\n",
    " ?\n",
    "#Output: 4 1\n",
    "1\n",
    "5\n",
    "9\n",
    "0\n"
   ]
  },
  {
   "cell_type": "markdown",
   "metadata": {},
   "source": [
    "# Question# 20"
   ]
  },
  {
   "cell_type": "code",
   "execution_count": 33,
   "metadata": {},
   "outputs": [
    {
     "name": "stdout",
     "output_type": "stream",
     "text": [
      "Item 0- 10.62\n",
      "Item 1- 16.14\n",
      "Item 2- 6.45\n",
      "Item 3- 17.11\n"
     ]
    },
    {
     "data": {
      "text/plain": [
       "'Output: Item 0 – 10.62\\nItem 1 – 16.14\\nItem 2 – 6.45\\nItem 3 – 17.11\\n'"
      ]
     },
     "execution_count": 33,
     "metadata": {},
     "output_type": "execute_result"
    }
   ],
   "source": [
    "q = [10.62, 16.14, 6.45, 17.11]\n",
    "for index,value in enumerate (q) :\n",
    " print( 'Item ' + str( index ) + '-' , str ( value ))\n",
    "\n",
    "''' z\n",
    "2) i\n",
    "3) j\n",
    "4) x\n",
    "5) k\n",
    "6) y'''\n",
    "\n",
    "'''Output: Item 0 – 10.62\n",
    "Item 1 – 16.14\n",
    "Item 2 – 6.45\n",
    "Item 3 – 17.11\n",
    "'''"
   ]
  },
  {
   "cell_type": "code",
   "execution_count": 34,
   "metadata": {},
   "outputs": [
    {
     "name": "stdout",
     "output_type": "stream",
     "text": [
      "Item 0- 10.62\n",
      "Item 1- 16.14\n",
      "Item 2- 6.45\n",
      "Item 3- 17.11\n"
     ]
    },
    {
     "data": {
      "text/plain": [
       "'Output: Item 0 – 10.62\\nItem 1 – 16.14\\nItem 2 – 6.45\\nItem 3 – 17.11\\n'"
      ]
     },
     "execution_count": 34,
     "metadata": {},
     "output_type": "execute_result"
    }
   ],
   "source": [
    "q = [10.62, 16.14, 6.45, 17.11]\n",
    "for j,z in enumerate (q) :\n",
    " print( 'Item ' + str( j ) + '-' , str ( z ))\n",
    "\n",
    "''' z\n",
    "2) i\n",
    "3) j\n",
    "4) x\n",
    "5) k\n",
    "6) y'''\n",
    "\n",
    "'''Output: Item 0 – 10.62\n",
    "Item 1 – 16.14\n",
    "Item 2 – 6.45\n",
    "Item 3 – 17.11\n",
    "'''"
   ]
  },
  {
   "cell_type": "markdown",
   "metadata": {},
   "source": [
    "# Question# 21"
   ]
  },
  {
   "cell_type": "code",
   "execution_count": null,
   "metadata": {},
   "outputs": [],
   "source": [
    "21. Which of these about a dictionary is false?\n",
    "'''a) The values of a dictionary can be accessed using keys\n",
    "b) The keys of a dictionary can be accessed using values\n",
    "c) Dictionaries aren’t ordered\n",
    "d) Dictionaries are mutable\n",
    "'''\n",
    "\n",
    "# Option 'B' is false"
   ]
  },
  {
   "cell_type": "markdown",
   "metadata": {},
   "source": [
    "# Question# 22"
   ]
  },
  {
   "cell_type": "code",
   "execution_count": 48,
   "metadata": {},
   "outputs": [
    {
     "name": "stdout",
     "output_type": "stream",
     "text": [
      "{0: 1, 1: 1, 2: 1}\n"
     ]
    },
    {
     "data": {
      "text/plain": [
       "'a. {0: 1, 1: 1, 2: 1}\\nb. {1: 0, 1: 1, 1: 2}\\nc. {0: 1, 1: 2, 2: 3}\\nd. {1: 2, 1: 1, 1: 0}\\n'"
      ]
     },
     "execution_count": 48,
     "metadata": {},
     "output_type": "execute_result"
    }
   ],
   "source": [
    "D = dict()\n",
    "for i in range (3):\n",
    "    for j in range(2):\n",
    "        D[i] = j\n",
    "print(D)\n",
    "\n",
    "'''a. {0: 1, 1: 1, 2: 1}\n",
    "b. {1: 0, 1: 1, 1: 2}\n",
    "c. {0: 1, 1: 2, 2: 3}\n",
    "d. {1: 2, 1: 1, 1: 0}\n",
    "'''\n",
    "\n",
    "# Option 'A' is correct"
   ]
  },
  {
   "cell_type": "markdown",
   "metadata": {},
   "source": [
    "# Question# 23"
   ]
  },
  {
   "cell_type": "code",
   "execution_count": null,
   "metadata": {},
   "outputs": [],
   "source": []
  },
  {
   "cell_type": "markdown",
   "metadata": {},
   "source": [
    "# Question # 24"
   ]
  },
  {
   "cell_type": "code",
   "execution_count": 36,
   "metadata": {
    "scrolled": true
   },
   "outputs": [
    {
     "name": "stdout",
     "output_type": "stream",
     "text": [
      "11.333333333333334\n"
     ]
    }
   ],
   "source": [
    "def avg ( x , y , z = 50 ):\n",
    "    adding = x + y + z\n",
    "    avg_value = adding / 3\n",
    "    return avg_value\n",
    "y = avg ( x = 5 , y = 9 , z = 20 )\n",
    "print(y)"
   ]
  },
  {
   "cell_type": "markdown",
   "metadata": {},
   "source": [
    "# Question# 25"
   ]
  },
  {
   "cell_type": "code",
   "execution_count": 61,
   "metadata": {},
   "outputs": [
    {
     "ename": "SyntaxError",
     "evalue": "invalid syntax (<ipython-input-61-4112810a1782>, line 1)",
     "output_type": "error",
     "traceback": [
      "\u001b[1;36m  File \u001b[1;32m\"<ipython-input-61-4112810a1782>\"\u001b[1;36m, line \u001b[1;32m1\u001b[0m\n\u001b[1;33m    def avg = ('opt_values' , 'name' ):\u001b[0m\n\u001b[1;37m            ^\u001b[0m\n\u001b[1;31mSyntaxError\u001b[0m\u001b[1;31m:\u001b[0m invalid syntax\n"
     ]
    }
   ],
   "source": [
    "def avg = ('opt_values' , 'name' ):\n",
    "    avg_value = sum (opt_values) / len(opt_values)\n",
    "print('name_is: ' + 'name' + 'Marks:' + str(avg_values))\n",
    "avg ( 5 , 9 , 20, 34, 87, 112 , 'Ali' )\n"
   ]
  },
  {
   "cell_type": "code",
   "execution_count": 68,
   "metadata": {},
   "outputs": [
    {
     "name": "stdout",
     "output_type": "stream",
     "text": [
      "name is:  Ali  Marks: 44.5\n"
     ]
    }
   ],
   "source": [
    "def avg ( name , *opt_values   ):\n",
    "    avg_value = sum (opt_values) / len(opt_values)\n",
    "    print('name is:  ' + name + '  Marks: ' + str(avg_value))\n",
    "avg ('Ali', 5 , 9 , 20, 34, 87, 112 )\n"
   ]
  },
  {
   "cell_type": "markdown",
   "metadata": {},
   "source": [
    "# Question# 26"
   ]
  },
  {
   "cell_type": "code",
   "execution_count": null,
   "metadata": {},
   "outputs": [],
   "source": []
  },
  {
   "cell_type": "markdown",
   "metadata": {},
   "source": [
    "# Question# 27"
   ]
  },
  {
   "cell_type": "code",
   "execution_count": null,
   "metadata": {},
   "outputs": [],
   "source": []
  },
  {
   "cell_type": "markdown",
   "metadata": {},
   "source": [
    "# Question# 28"
   ]
  },
  {
   "cell_type": "code",
   "execution_count": 76,
   "metadata": {},
   "outputs": [
    {
     "name": "stdout",
     "output_type": "stream",
     "text": [
      "000123\n"
     ]
    }
   ],
   "source": [
    "X = 123\n",
    "print(\"%06d\"%X)\n"
   ]
  },
  {
   "cell_type": "markdown",
   "metadata": {},
   "source": [
    "# Question# 29"
   ]
  },
  {
   "cell_type": "code",
   "execution_count": 78,
   "metadata": {},
   "outputs": [
    {
     "name": "stdout",
     "output_type": "stream",
     "text": [
      "22.19\n"
     ]
    }
   ],
   "source": [
    "x=22.19\n",
    "print(\"%5.2f\"%x)"
   ]
  },
  {
   "cell_type": "markdown",
   "metadata": {},
   "source": [
    "# Question# 30"
   ]
  },
  {
   "cell_type": "code",
   "execution_count": 79,
   "metadata": {},
   "outputs": [],
   "source": [
    "x = '{0:f}, {1:2f}, {2:05.2f}'.format(1.23456, 1.23456, 1.23456)"
   ]
  },
  {
   "cell_type": "code",
   "execution_count": 80,
   "metadata": {},
   "outputs": [
    {
     "data": {
      "text/plain": [
       "'1.234560, 1.234560, 01.23'"
      ]
     },
     "execution_count": 80,
     "metadata": {},
     "output_type": "execute_result"
    }
   ],
   "source": [
    "x"
   ]
  },
  {
   "cell_type": "markdown",
   "metadata": {},
   "source": [
    "# Question# 31"
   ]
  },
  {
   "cell_type": "code",
   "execution_count": 87,
   "metadata": {},
   "outputs": [
    {
     "name": "stdout",
     "output_type": "stream",
     "text": [
      "1\n"
     ]
    }
   ],
   "source": [
    "i = 1\n",
    "while False:\n",
    "    if i%2 == 0:\n",
    "        break\n",
    "print(i)\n",
    "i += 2"
   ]
  },
  {
   "cell_type": "markdown",
   "metadata": {},
   "source": [
    "# Question# 32"
   ]
  },
  {
   "cell_type": "code",
   "execution_count": null,
   "metadata": {},
   "outputs": [],
   "source": []
  }
 ],
 "metadata": {
  "kernelspec": {
   "display_name": "Python 3",
   "language": "python",
   "name": "python3"
  },
  "language_info": {
   "codemirror_mode": {
    "name": "ipython",
    "version": 3
   },
   "file_extension": ".py",
   "mimetype": "text/x-python",
   "name": "python",
   "nbconvert_exporter": "python",
   "pygments_lexer": "ipython3",
   "version": "3.7.4"
  }
 },
 "nbformat": 4,
 "nbformat_minor": 2
}
